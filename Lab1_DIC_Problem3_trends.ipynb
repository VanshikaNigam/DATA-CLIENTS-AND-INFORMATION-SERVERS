{
 "cells": [
  {
   "cell_type": "code",
   "execution_count": 13,
   "metadata": {
    "collapsed": false
   },
   "outputs": [],
   "source": [
    "#loading the required the libraries \n",
    "library(twitteR)\n",
    "library(ggmap)\n",
    "library(ggplot2)"
   ]
  },
  {
   "cell_type": "code",
   "execution_count": 14,
   "metadata": {
    "collapsed": false
   },
   "outputs": [
    {
     "name": "stdout",
     "output_type": "stream",
     "text": [
      "[1] \"Using direct authentication\"\n"
     ]
    }
   ],
   "source": [
    "#setting up oauth connection \n",
    "setup_twitter_oauth(\"wTp3cBoGCc4kPqpBxcBQLZAEx\",\"cpGO07H3BScmbTNheewqUHmUH1Z059mO41KogT755YHqLMJxZk\",\"772118317742055424-LtYPNm4dr2Mvq0tlVKKcz1QdRswqVtB\",\"cKALwsJ9bliKNS22csI9lN9d56UcjgHpxjYaKjVWik250\")"
   ]
  },
  {
   "cell_type": "code",
   "execution_count": 19,
   "metadata": {
    "collapsed": false
   },
   "outputs": [
    {
     "name": "stderr",
     "output_type": "stream",
     "text": [
      "Information from URL : http://maps.googleapis.com/maps/api/geocode/json?address=India&sensor=false\n"
     ]
    },
    {
     "name": "stdout",
     "output_type": "stream",
     "text": [
      "       lon      lat\n",
      "1 78.96288 20.59368\n"
     ]
    }
   ],
   "source": [
    "#If entering the name of the location run this part of the code and skip the next block\n",
    "name_of_place<-\"India\"\n",
    "location<-geocode(name_of_place)\n",
    "latitude<-location$lat\n",
    "longitude<-location$lon\n",
    "show(location)"
   ]
  },
  {
   "cell_type": "code",
   "execution_count": 16,
   "metadata": {
    "collapsed": true
   },
   "outputs": [],
   "source": [
    "#If entering the geocode of a place , run this part of the code\n",
    "latitude<-\"35.86166\"\n",
    "longitude<-\"104.1954\""
   ]
  },
  {
   "cell_type": "code",
   "execution_count": 20,
   "metadata": {
    "collapsed": false,
    "scrolled": true
   },
   "outputs": [
    {
     "name": "stdout",
     "output_type": "stream",
     "text": [
      "    name country   woeid\n",
      "1 Nagpur   India 2282863\n"
     ]
    }
   ],
   "source": [
    "# common code for both name of the place and geocoded locations\n",
    "close_trends = closestTrendLocations(latitude,longitude)\n",
    "print(close_trends)\n",
    "trends=getTrends(close_trends$woeid)\n",
    "store<-head(trends$name,10)\n",
    "#show(store)"
   ]
  },
  {
   "cell_type": "code",
   "execution_count": 21,
   "metadata": {
    "collapsed": false,
    "scrolled": true
   },
   "outputs": [
    {
     "name": "stdout",
     "output_type": "stream",
     "text": [
      "The top 10 trending topics of the place you are looking for :"
     ]
    },
    {
     "data": {
      "text/html": [
       "<ol class=list-inline>\n",
       "\t<li>'Hamilton'</li>\n",
       "\t<li>'#ASOTFESTNL'</li>\n",
       "\t<li>'#floortest'</li>\n",
       "\t<li>'#JioFilmfareAwards'</li>\n",
       "\t<li>'#OPSvsEPS'</li>\n",
       "\t<li>'#UPकीपुकार_BJPइसबार'</li>\n",
       "\t<li>'Marina Beach'</li>\n",
       "\t<li>'तमिलनाडु विधानसभा'</li>\n",
       "\t<li>'JOLLY FIRST HIT OF 2017'</li>\n",
       "\t<li>'#गठबंधन_का_पहला_वादा'</li>\n",
       "</ol>\n"
      ],
      "text/latex": [
       "\\begin{enumerate*}\n",
       "\\item 'Hamilton'\n",
       "\\item '\\#ASOTFESTNL'\n",
       "\\item '\\#floortest'\n",
       "\\item '\\#JioFilmfareAwards'\n",
       "\\item '\\#OPSvsEPS'\n",
       "\\item '\\#UPकीपुकार\\_BJPइसबार'\n",
       "\\item 'Marina Beach'\n",
       "\\item 'तमिलनाडु विधानसभा'\n",
       "\\item 'JOLLY FIRST HIT OF 2017'\n",
       "\\item '\\#गठबंधन\\_का\\_पहला\\_वादा'\n",
       "\\end{enumerate*}\n"
      ],
      "text/markdown": [
       "1. 'Hamilton'\n",
       "2. '#ASOTFESTNL'\n",
       "3. '#floortest'\n",
       "4. '#JioFilmfareAwards'\n",
       "5. '#OPSvsEPS'\n",
       "6. '#UPकीपुकार_BJPइसबार'\n",
       "7. 'Marina Beach'\n",
       "8. 'तमिलनाडु विधानसभा'\n",
       "9. 'JOLLY FIRST HIT OF 2017'\n",
       "10. '#गठबंधन_का_पहला_वादा'\n",
       "\n",
       "\n"
      ],
      "text/plain": [
       " [1] \"Hamilton\"                \"#ASOTFESTNL\"            \n",
       " [3] \"#floortest\"              \"#JioFilmfareAwards\"     \n",
       " [5] \"#OPSvsEPS\"               \"#UPकीपुकार_BJPइसबार\"     \n",
       " [7] \"Marina Beach\"            \"तमिलनाडु विधानसभा\"       \n",
       " [9] \"JOLLY FIRST HIT OF 2017\" \"#गठबंधन_का_पहला_वादा\"    "
      ]
     },
     "metadata": {},
     "output_type": "display_data"
    }
   ],
   "source": [
    "#http://stackoverflow.com/questions/32241806/how-to-print-text-and-variables-in-a-single-line-in-r\n",
    "cat(\"The top 10 trending topics of the place you are looking for :\")\n",
    "sprintf(store)"
   ]
  },
  {
   "cell_type": "code",
   "execution_count": null,
   "metadata": {
    "collapsed": true
   },
   "outputs": [],
   "source": []
  }
 ],
 "metadata": {
  "kernelspec": {
   "display_name": "R",
   "language": "R",
   "name": "ir"
  },
  "language_info": {
   "codemirror_mode": "r",
   "file_extension": ".r",
   "mimetype": "text/x-r-source",
   "name": "R",
   "pygments_lexer": "r",
   "version": "3.3.2"
  }
 },
 "nbformat": 4,
 "nbformat_minor": 2
}
